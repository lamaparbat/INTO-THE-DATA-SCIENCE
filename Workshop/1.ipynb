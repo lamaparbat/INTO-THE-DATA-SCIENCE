{
  "nbformat": 4,
  "nbformat_minor": 0,
  "metadata": {
    "colab": {
      "provenance": [],
      "collapsed_sections": [
        "Joz1tQF4dUFv",
        "yoD4zsaed9am",
        "SX4BghjzeYI6",
        "rclKHGfFgnsc",
        "HdL2MIn941qe"
      ],
      "include_colab_link": true
    },
    "kernelspec": {
      "name": "python3",
      "display_name": "Python 3"
    },
    "language_info": {
      "name": "python"
    }
  },
  "cells": [
    {
      "cell_type": "markdown",
      "metadata": {
        "id": "view-in-github",
        "colab_type": "text"
      },
      "source": [
        "<a href=\"https://colab.research.google.com/github/lamaparbat/INTO-THE-ML-VERSE/blob/main/Workshop/1.ipynb\" target=\"_parent\"><img src=\"https://colab.research.google.com/assets/colab-badge.svg\" alt=\"Open In Colab\"/></a>"
      ]
    },
    {
      "cell_type": "markdown",
      "source": [
        "# Introduction to Artificial Intelligence and Machine Learning.\n",
        "## Instructions and Requirements:\n",
        "This week workshop will have three sections:\n",
        "*   Section-1: Introduction to Python Programming. \n",
        "    *   Objectives:\n",
        "         *   In this section we will try to revise some basic concepts in python programming language.\n",
        "    *   Learning outcomes:\n",
        "      *   Get familiar with the python programming language and Notebook/colab IDE.\n",
        "      *   Perform Arithmetic Operations on both the numbers and in strings,Understand most commonly used data structure in python.\n",
        "\n",
        "*   Section-2: Introduction Pandas for Data Handling.\n",
        "  *   Objectives:\n",
        "      *   To perform some common operations using Pandas library.\n",
        "  *   Learning Outcomes:\n",
        "      *   Get familiar with Pandas Library.\n",
        "      *   Perform Data reading and Data transforamtion using Pandas.\n",
        "*   Section-3: Basic Data Visualization with Pandas and matplotlib.\n",
        "  *   Objectives:\n",
        "      *   In this section we will perform some basic visualization with pandas and matplotlib library.\n",
        "  *   Learning Outcomes:\n",
        "      *   Plot some Histogram, Bar Charts....\n",
        "      *   Observe how data visualization techniques is usefull to answer and extract information from the dataset..\n",
        "\n",
        "## Requirements:\n",
        "Notebook Environment(Jupyter or Google Colab).\n",
        "\n",
        "## Dataset:\n",
        "bank.csv.\n",
        "\n",
        "*   Author: Siman Giri\n"
      ],
      "metadata": {
        "id": "jHRcA5DRYf15"
      }
    },
    {
      "cell_type": "markdown",
      "source": [
        "# Section-1: Python Basics."
      ],
      "metadata": {
        "id": "zXmD032-ckKS"
      }
    },
    {
      "cell_type": "markdown",
      "source": [
        "## Arithematic Operations in Python:\n",
        "Python supports the usual arithmetic operators: + (addition), * (multiplication), / (division), ** (power), // (integer division).\n",
        "\n",
        "Questions:\n",
        "\n",
        "1) Define and store a number/integer in a variable x.\n",
        "\n",
        "2) Print the type of variable x.\n",
        "\n",
        "3) Add 2 to given variable x.\n",
        "\n",
        "4) Subtract 3 from varaible x.\n",
        "\n",
        "5) Multiply the variable x with 2.\n",
        "\n",
        "6) Find the power 2 or exponenetial of the varaible x."
      ],
      "metadata": {
        "id": "NGZLFsRLYvAe"
      }
    },
    {
      "cell_type": "code",
      "execution_count": null,
      "metadata": {
        "id": "a0BNNxJ9YU4Y",
        "colab": {
          "base_uri": "https://localhost:8080/"
        },
        "outputId": "af0a7e0c-1b72-4eb5-f2ac-2f19fe3f8933"
      },
      "outputs": [
        {
          "output_type": "stream",
          "name": "stdout",
          "text": [
            "<class 'int'>\n",
            "324\n"
          ]
        }
      ],
      "source": [
        "# store integer value in variable \"x\"\n",
        "x = 10\n",
        "\n",
        "# print data type\n",
        "print(type(x))\n",
        "\n",
        "# sum var \"x\" by 2\n",
        "x += 2\n",
        "\n",
        "# decrement var \"x\" by 2\n",
        "x -= 3\n",
        "\n",
        "# multiply the variable x with 2\n",
        "x *= 2\n",
        "\n",
        "# finding power of variable x\n",
        "print(pow(x, 2))\n",
        "\n",
        "\n"
      ]
    },
    {
      "cell_type": "markdown",
      "source": [
        "## Strings in Python:\n",
        "Questions:\n",
        "\n",
        "1) Define a strings \" hello\"  and store in the variable.\n",
        "\n",
        "2) Concatenate the strings \"world\" with above strings and store it in the new variable.\n",
        "\n",
        "3) Convert the strings\"hello\" in capital or convert it into uppercase.\n",
        "\n",
        "4) Right justify a string, \"hello\" i.e. add a spce in the right of the string.\n",
        "\n",
        "5) Replace the letter \"e\" from the string \"hello\" with \"a\"."
      ],
      "metadata": {
        "id": "wSMuIPrHY8lw"
      }
    },
    {
      "cell_type": "code",
      "source": [
        "first = \"hello\"\n",
        "last = \"world\"\n",
        "\n",
        "# concat\n",
        "word = first + \" \" + last;\n",
        "\n",
        "# make first word uppercase\n",
        "arr = word.split(\" \")\n",
        "word = arr[0].upper() + arr[1]\n",
        "\n",
        "# add a spce in the right of the string\n",
        "word = arr[0] + \" \" + arr[1]\n",
        "\n",
        "# Replace the letter \"e\" from the string \"hello\" with \"a\".\n",
        "word = word.replace(\"e\", \"a\")\n",
        "\n",
        "print(word)\n"
      ],
      "metadata": {
        "id": "L0jUSMQtY9OW",
        "colab": {
          "base_uri": "https://localhost:8080/"
        },
        "outputId": "8636fcaf-a9c1-4060-d2b3-e2635ead0b06"
      },
      "execution_count": null,
      "outputs": [
        {
          "output_type": "stream",
          "name": "stdout",
          "text": [
            "hallo world\n"
          ]
        }
      ]
    },
    {
      "cell_type": "markdown",
      "source": [
        "## Common Data Structures in Python:\n"
      ],
      "metadata": {
        "id": "iiq6XrOyZFmp"
      }
    },
    {
      "cell_type": "markdown",
      "source": [
        "### Lists:\n",
        "A list is the python equvalent of an array, but is resizeanle and can contain elemements of different types:"
      ],
      "metadata": {
        "id": "9Ybm0Su3ZHKI"
      }
    },
    {
      "cell_type": "code",
      "source": [
        "# Create a list:\n",
        "x = [3, 1, 2]\n",
        "# print whole list.\n",
        "print(x)"
      ],
      "metadata": {
        "colab": {
          "base_uri": "https://localhost:8080/"
        },
        "id": "wNJ-E1FEY_vH",
        "outputId": "40c0e17f-a2c0-437a-fc4c-85f8b618809d"
      },
      "execution_count": null,
      "outputs": [
        {
          "output_type": "stream",
          "name": "stdout",
          "text": [
            "[3, 1, 2]\n"
          ]
        }
      ]
    },
    {
      "cell_type": "code",
      "source": [
        "# Print first and list element of the list x.\n",
        "# your code here:\n"
      ],
      "metadata": {
        "id": "Pyp19a8lZM2V"
      },
      "execution_count": null,
      "outputs": []
    },
    {
      "cell_type": "code",
      "source": [
        "# List can take elements of different types, add \"hello\" in list x.\n",
        "# your code here:\n",
        "x.append('foo')\n",
        "print(x)"
      ],
      "metadata": {
        "colab": {
          "base_uri": "https://localhost:8080/"
        },
        "id": "8Ea1rdzcZOz1",
        "outputId": "56ea573b-62d7-4d0d-d9cb-8337122349c7"
      },
      "execution_count": null,
      "outputs": [
        {
          "output_type": "stream",
          "name": "stdout",
          "text": [
            "[3, 1, 2, 'foo']\n"
          ]
        }
      ]
    },
    {
      "cell_type": "markdown",
      "source": [
        "Questions:\n",
        "\n",
        "Write a program that add two list indexwise:\n",
        "\n",
        "Inputs: \n",
        "\n",
        "list1 = [\"T\", \"i\" , \"a\" , \"appl\"]\n",
        "\n",
        "list2 = [\"his\",  \"s\",  \"n\" , \"e\"]\n",
        "\n",
        "Output:\n",
        "\n",
        "newlist = [\"This\" , \"is\" , \"an\", \"apple\"]"
      ],
      "metadata": {
        "id": "q37eq5IYZTPY"
      }
    },
    {
      "cell_type": "code",
      "source": [
        "# Your solutions here:\n"
      ],
      "metadata": {
        "id": "uojTZA95ZQq1"
      },
      "execution_count": null,
      "outputs": []
    },
    {
      "cell_type": "markdown",
      "source": [
        "Write a program to remove a value 3 with 6 in the following lists.\n",
        "\n",
        "Input:\n",
        "\n",
        "list2 = [5,3, 7, 8]\n",
        "\n",
        "Output:\n",
        "\n",
        "newlist = [5, 6, 7, 8]"
      ],
      "metadata": {
        "id": "kzCnB3hQZZbv"
      }
    },
    {
      "cell_type": "code",
      "source": [
        "# your solutions here"
      ],
      "metadata": {
        "id": "OAOszBxjZbYX"
      },
      "execution_count": null,
      "outputs": []
    },
    {
      "cell_type": "markdown",
      "source": [
        "### List Slicing:\n",
        "Questions:\n",
        "\n",
        "1) Given the list nums.\n",
        "  *   Slice from index 2 - 4.\n",
        "  *   Slice from index 2 - end.\n",
        "  *   Slice from start to index 2.\n",
        "  *   Assign a new sublist to a slice."
      ],
      "metadata": {
        "id": "cZ5waDFEZeOe"
      }
    },
    {
      "cell_type": "code",
      "source": [
        "nums = list(range(5))\n",
        "# Your Solutions here\n"
      ],
      "metadata": {
        "id": "IA9C9d6hZf90"
      },
      "execution_count": null,
      "outputs": []
    },
    {
      "cell_type": "markdown",
      "source": [
        "### Dicitionary:\n",
        "\n",
        "Questions:\n",
        "\n",
        "1) Create at lesat two  dicitionary of your choice, with minimum three keys and three values.\n",
        "\n",
        "2) Concatenate the above created dicitionary into one dicitionary.\n",
        "\n",
        "3) Write a program to check whether a key is present in dictionary or not."
      ],
      "metadata": {
        "id": "DS4ipqEsZqCh"
      }
    },
    {
      "cell_type": "code",
      "source": [
        "# Your solutions here\n"
      ],
      "metadata": {
        "id": "LHtSOrfxZsBl"
      },
      "execution_count": null,
      "outputs": []
    },
    {
      "cell_type": "markdown",
      "source": [
        "## Functions and Conditionals\n",
        "\n",
        "Questions:\n",
        "\n",
        "1) Create a function, which checks a number and return \"positive\" if number is more than 3 else return \"negative\"\n",
        "\n",
        "2) Creata a function to return square of input."
      ],
      "metadata": {
        "id": "lUv7CmsXZu7v"
      }
    },
    {
      "cell_type": "code",
      "source": [
        "def sign(x):\n",
        "  \"\"\"\n",
        "  x: is a input to be checked.\n",
        "  \"\"\"\n",
        "  # your solutions here:"
      ],
      "metadata": {
        "id": "-k5ffft1ZuCW"
      },
      "execution_count": null,
      "outputs": []
    },
    {
      "cell_type": "code",
      "source": [
        "# Check the solutions\n",
        "for x in [-1, 0, 4]:\n",
        "    print(sign(x))"
      ],
      "metadata": {
        "id": "NS10jqGVZ5g2",
        "colab": {
          "base_uri": "https://localhost:8080/"
        },
        "outputId": "e7c45379-4b72-40ab-ca5c-25c2539232b3"
      },
      "execution_count": null,
      "outputs": [
        {
          "output_type": "stream",
          "name": "stdout",
          "text": [
            "None\n",
            "None\n",
            "None\n"
          ]
        }
      ]
    },
    {
      "cell_type": "markdown",
      "source": [
        "# Section-1.1- Python Basics and Statistics.\n",
        "___\n"
      ],
      "metadata": {
        "id": "cP3RaayvcTDU"
      }
    },
    {
      "cell_type": "markdown",
      "source": [
        "## Measurement of Central Tendency"
      ],
      "metadata": {
        "id": "ato2QWdpcv2H"
      }
    },
    {
      "cell_type": "markdown",
      "source": [
        "### Mean\n",
        "By the defination of arithematic mean,\n",
        "\\begin{align}\n",
        "\\mathbf{X} = \\frac{1}{n} \\sum_{i=1}^{n} x_{i}=\\frac{1}{n}\\left(x_{1}+\\cdots+x_{n}\\right)\n",
        "\\end{align}"
      ],
      "metadata": {
        "id": "JnElDFbvc7A3"
      }
    },
    {
      "cell_type": "markdown",
      "source": [
        "Questions: \n",
        "\n",
        "Find the arithematic mean of following sequqnece of numbers.\n",
        "\n",
        "Store the arithematic mean in the variable am.\n",
        "\n"
      ],
      "metadata": {
        "id": "G18u2nOhc-J3"
      }
    },
    {
      "cell_type": "code",
      "source": [
        "def arithematic_mean(variable):\n",
        "  \"\"\"\n",
        "    Description:\n",
        "    This functions calculates the arithematic mean.\n",
        "    Parameter:\n",
        "    variable: list of variables which arithematic mean has to be calculated.\n",
        "    Return: calculated arithematic mean.\n",
        "  \"\"\"\n",
        "  # Your Code here:\n",
        "  \n",
        "  return am "
      ],
      "metadata": {
        "id": "rxOJfbY7cuOF"
      },
      "execution_count": null,
      "outputs": []
    },
    {
      "cell_type": "code",
      "source": [
        "numb = [2,3,5,7,8]\n",
        "am = arithematic_mean(numb)"
      ],
      "metadata": {
        "id": "JmqNRgYDdOII"
      },
      "execution_count": null,
      "outputs": []
    },
    {
      "cell_type": "code",
      "source": [
        "# Test case:\n",
        "#!! Cautuion: Please do not change the test case:\n",
        "if am == 5:\n",
        "  print(\"Congratulations you are right!!\")\n",
        "else:\n",
        "  print(\" Try Again \")"
      ],
      "metadata": {
        "colab": {
          "base_uri": "https://localhost:8080/"
        },
        "id": "04JSXFondP8t",
        "outputId": "8c518f5c-a8e7-4709-e539-126f67f6578f"
      },
      "execution_count": null,
      "outputs": [
        {
          "output_type": "stream",
          "name": "stdout",
          "text": [
            "Congratulations you are right!!\n"
          ]
        }
      ]
    },
    {
      "cell_type": "markdown",
      "source": [
        "### Median\n",
        " By the defination of median;\n",
        "\n",
        " $For$ $Sorted$ $list:$\n",
        "\n",
        " $ If$ $n$ $is$ $odd:$\n",
        " \\begin{align}\n",
        "\\mathbf{Median(X)} = \\mathbf{X}[\\frac{(n+1)}{2}] term.\n",
        "\\end{align}\n",
        "\n",
        " $ If$ $n$ $is$ $Even:$\n",
        " \\begin{align}\n",
        "\\mathbf{Median(X)} = \\frac{\\mathbf{X}[\\frac{n}{2}] +\\mathbf{X}[\\frac{n}{2}+1]}{2} term .\n",
        "\\end{align}\n"
      ],
      "metadata": {
        "id": "Joz1tQF4dUFv"
      }
    },
    {
      "cell_type": "markdown",
      "source": [
        "Questions: \n",
        "\n",
        "Find the median of following sequence of numbers given.\n",
        "\n",
        "Store the finding in variable median."
      ],
      "metadata": {
        "id": "ExWsAoHedxV7"
      }
    },
    {
      "cell_type": "code",
      "source": [
        "def median(variable):\n",
        "  \"\"\"\n",
        "    Description:\n",
        "    This functions calculates the median.\n",
        "    Parameter:\n",
        "    variable: list of variables which median has to be calculated.\n",
        "    Return: calculated median.\n",
        "  \"\"\"\n",
        "  # Your code here\n",
        "  \n",
        "  return median"
      ],
      "metadata": {
        "id": "cXfpsGuvdR4m"
      },
      "execution_count": null,
      "outputs": []
    },
    {
      "cell_type": "code",
      "source": [
        "numb = [2, 4, 5, 8, 9]\n",
        "median = median(numb)\n",
        "median"
      ],
      "metadata": {
        "colab": {
          "base_uri": "https://localhost:8080/"
        },
        "id": "SkvV6g0Hd3qi",
        "outputId": "4d1f71e8-644a-4b70-848d-3b59216a8bf2"
      },
      "execution_count": null,
      "outputs": [
        {
          "output_type": "execute_result",
          "data": {
            "text/plain": [
              "5"
            ]
          },
          "metadata": {},
          "execution_count": 11
        }
      ]
    },
    {
      "cell_type": "code",
      "source": [
        "# Test case:\n",
        "#!! Cautuion: Please do not change this cell:\n",
        "if median == 5:\n",
        "  print(\"Congratulations you are right!!\")\n",
        "else:\n",
        "  print(\" Try Again \")"
      ],
      "metadata": {
        "colab": {
          "base_uri": "https://localhost:8080/"
        },
        "id": "ZzK-Zyu2d5Yx",
        "outputId": "0c3fc4a4-38a4-4ed6-a189-07f4b019b44c"
      },
      "execution_count": null,
      "outputs": [
        {
          "output_type": "stream",
          "name": "stdout",
          "text": [
            "Congratulations you are right!!\n"
          ]
        }
      ]
    },
    {
      "cell_type": "markdown",
      "source": [
        "### Mode\n",
        "\n",
        "Mode is the observation with highest number of frequency.\n",
        "\n",
        "Questions:\n",
        "\n",
        "Find the mode of given sequence of list.\n",
        "\n",
        "Store your findings in variable mode_."
      ],
      "metadata": {
        "id": "yoD4zsaed9am"
      }
    },
    {
      "cell_type": "code",
      "source": [
        "def mode(variable):\n",
        "  \"\"\"\n",
        "    Description:\n",
        "    Function finds the mode of list, if present.\n",
        "    Parameter:\n",
        "    variable: list of variables which median has to be calculated.\n",
        "    Return: Mode.\n",
        "  \"\"\"\n",
        "  from collections import Counter\n",
        "  # Your code here:\n",
        "  return mode_\n",
        "  "
      ],
      "metadata": {
        "id": "zRldnhksd7iR"
      },
      "execution_count": null,
      "outputs": []
    },
    {
      "cell_type": "code",
      "source": [
        "n = [2,3,4,5,7,2]\n",
        "mode_ = mode(n)"
      ],
      "metadata": {
        "id": "b5bLM0eNeGYH"
      },
      "execution_count": null,
      "outputs": []
    },
    {
      "cell_type": "code",
      "source": [
        "# Test case:\n",
        "#!! Cautuion: Please do not change this cell:\n",
        "if mode_ == [2]:\n",
        "  print(\"Congratulations you are right!!\")\n",
        "else:\n",
        "  print(\" Try Again \")"
      ],
      "metadata": {
        "colab": {
          "base_uri": "https://localhost:8080/"
        },
        "id": "Cv7eKTkneIH3",
        "outputId": "5a3e8058-2c33-424a-eb6b-c8c364b1d6e2"
      },
      "execution_count": null,
      "outputs": [
        {
          "output_type": "stream",
          "name": "stdout",
          "text": [
            "Congratulations you are right!!\n"
          ]
        }
      ]
    },
    {
      "cell_type": "markdown",
      "source": [
        "### Measurement of Dispersion\n",
        "\n",
        "___"
      ],
      "metadata": {
        "id": "XBmtWmDueQeT"
      }
    },
    {
      "cell_type": "markdown",
      "source": [
        "### Sample Variance\n",
        "\n",
        "By the defination of  Sample Variance:\n",
        "\n",
        "\\begin{align}\n",
        "\\mathbf{Sample Variance(s^2)} = \\frac{\\sum(x_i-\\bar{x})^2} {n-1}.\n",
        "\\end{align}\n",
        "\n",
        "\n",
        "By the defination of  Sample Standard Deviation:\n",
        "\\begin{align}\n",
        "\\mathbf{Sample SD} = \\sqrt\\frac{\\sum{(x_i-\\bar{x})^2}}{n-1}.\n",
        "\\end{align}"
      ],
      "metadata": {
        "id": "SX4BghjzeYI6"
      }
    },
    {
      "cell_type": "markdown",
      "source": [
        "Questions:\n",
        "\n",
        "Find the sample varaince and sample standard deviation of the given sequence of numbers."
      ],
      "metadata": {
        "id": "kL3OD8rCgSop"
      }
    },
    {
      "cell_type": "code",
      "source": [
        "def sample_variance(variable):\n",
        "  \"\"\"\n",
        "  Descriptions:\n",
        "  This function finds the variance of given input list.\n",
        "  Parameters:\n",
        "  variable: input list of numbers.\n",
        "  Return: sample varince.\n",
        "  \"\"\"\n",
        "  import math\n",
        "  no = len(variable)\n",
        "  # find the mean:\n",
        "  \n",
        "  # find square deviations;\n",
        "  \n",
        "  # find sample variance and Sample standard deviation:\n",
        "\n",
        "  \n",
        "  return sample_variance, standard_deviation\n",
        "\n"
      ],
      "metadata": {
        "id": "S9QEBw99eJyW"
      },
      "execution_count": null,
      "outputs": []
    },
    {
      "cell_type": "code",
      "source": [
        "numb = [6, 6, 3, 9, 4, 3, 6, 9, 7, 8]\n",
        "sv, sd = sample_variance(numb)"
      ],
      "metadata": {
        "id": "iz87SsSlgWH4"
      },
      "execution_count": null,
      "outputs": []
    },
    {
      "cell_type": "markdown",
      "source": [
        "# Section-2: Introduction to Pandas.\n",
        "___"
      ],
      "metadata": {
        "id": "rclKHGfFgnsc"
      }
    },
    {
      "cell_type": "markdown",
      "source": [
        "## Reading the dataset.\n",
        "___"
      ],
      "metadata": {
        "id": "sggFknmv2kE9"
      }
    },
    {
      "cell_type": "markdown",
      "source": [
        "Questions: \n",
        "\n",
        "1. Read the dataset and assign it to a varaible.\n",
        "\n",
        "2. Observe the first 5 entries [Hint: pd.head()].\n",
        "\n",
        "3. Observe the last 5 entries [Hint: pd.tail()].\n",
        "\n",
        "4. What is the number of observations in the dataset [Hint: pd.shape]?\n",
        "\n",
        "5. print all the coloumns of the dataset.\n",
        "\n",
        "6. Check for missing values in the dataset.\n",
        "\n",
        "7. Check the datatypes of all the attributes/coloumn in the dataset.\n",
        "\n",
        "8. For the datatype-Object count all the unique values.\n",
        "\n",
        "\n",
        "\n"
      ],
      "metadata": {
        "id": "7k3kaI2-hElC"
      }
    },
    {
      "cell_type": "code",
      "source": [
        "# Your Solution here:\n",
        "import pandas as pd\n",
        "\n",
        "\n"
      ],
      "metadata": {
        "id": "LuhXSy_CgX7H"
      },
      "execution_count": null,
      "outputs": []
    },
    {
      "cell_type": "markdown",
      "source": [
        "### Data Transformation:\n",
        "\n",
        "Tasks to Complete:\n",
        "  1.   Convert housing, default, loan and the target variable y into binary: y-->1 and no--> 0.\n",
        "  2.   Create a new coloumn duration_minutes, whose values should be based on the values present in the duration column transformed from seconds to minutes.\n",
        "  \n",
        "\n"
      ],
      "metadata": {
        "id": "IJ2QYSq_2sdK"
      }
    },
    {
      "cell_type": "code",
      "source": [
        "#converting housing, default, loan and the target variable y into binary; yes - 1, no - 0\n",
        "datasets['y'] = datasets[\"y\"].map({'yes':1,'no':0})"
      ],
      "metadata": {
        "id": "lQo-LBUeinT4"
      },
      "execution_count": null,
      "outputs": []
    },
    {
      "cell_type": "code",
      "source": [
        "datasets['y']"
      ],
      "metadata": {
        "colab": {
          "base_uri": "https://localhost:8080/"
        },
        "id": "B5w9ojXa3mZB",
        "outputId": "78f451c3-3e09-4c9b-d1df-63b50580ad19"
      },
      "execution_count": null,
      "outputs": [
        {
          "output_type": "execute_result",
          "data": {
            "text/plain": [
              "0        0\n",
              "1        0\n",
              "2        0\n",
              "3        0\n",
              "4        0\n",
              "        ..\n",
              "45206    1\n",
              "45207    1\n",
              "45208    1\n",
              "45209    0\n",
              "45210    0\n",
              "Name: y, Length: 45211, dtype: int64"
            ]
          },
          "metadata": {},
          "execution_count": 5
        }
      ]
    },
    {
      "cell_type": "code",
      "source": [
        "datasets[\"default\"] = datasets[\"default\"].map({'yes':1,'no':0})\n",
        "datasets[\"housing\"] = datasets[\"housing\"].map({'yes':1,'no':0})\n",
        "datasets[\"loan\"] = datasets[\"loan\"].map({'yes':1,'no':0})"
      ],
      "metadata": {
        "id": "wtdFTqC-3nxM"
      },
      "execution_count": null,
      "outputs": []
    },
    {
      "cell_type": "code",
      "source": [
        "datasets['duration_minutes'] = datasets['duration']/60"
      ],
      "metadata": {
        "id": "F9fj_fvE3plS"
      },
      "execution_count": null,
      "outputs": []
    },
    {
      "cell_type": "markdown",
      "source": [
        "## Basic Descriptive Statistical Anlysis.\n",
        "Tasks:\n",
        "  1. For Quantitative data, find  Sum, mean, mode, median, max, min."
      ],
      "metadata": {
        "id": "q-VswThA4fch"
      }
    },
    {
      "cell_type": "code",
      "source": [
        "# Your Code here:\n"
      ],
      "metadata": {
        "colab": {
          "base_uri": "https://localhost:8080/"
        },
        "id": "CiYiP_VF3tJE",
        "outputId": "fbda8b91-3140-4372-8368-f362d7b3c2cd"
      },
      "execution_count": null,
      "outputs": [
        {
          "output_type": "stream",
          "name": "stdout",
          "text": [
            "age\n",
            "Sum of age 1850767\n",
            "Mean of age 40.93621021432837\n",
            "Median of age 39.0\n",
            "Standard Deviation of age 10.61876204097542\n",
            "Maximum of age 95\n",
            "Minimum of age 18\n",
            "**************\n",
            "balance\n",
            "Sum of balance 61589682\n",
            "Mean of balance 1362.2720576850766\n",
            "Median of balance 448.0\n",
            "Standard Deviation of balance 3044.765829168518\n",
            "Maximum of balance 102127\n",
            "Minimum of balance -8019\n",
            "**************\n",
            "duration\n",
            "Sum of duration 11671811\n",
            "Mean of duration 258.1630797814691\n",
            "Median of duration 180.0\n",
            "Standard Deviation of duration 257.5278122651719\n",
            "Maximum of duration 4918\n",
            "Minimum of duration 0\n",
            "**************\n",
            "campaign\n",
            "Sum of campaign 124956\n",
            "Mean of campaign 2.763840658246887\n",
            "Median of campaign 2.0\n",
            "Standard Deviation of campaign 3.0980208832791694\n",
            "Maximum of campaign 63\n",
            "Minimum of campaign 1\n",
            "**************\n",
            "duration_minutes\n",
            "Sum of duration_minutes 194530.18333333335\n",
            "Mean of duration_minutes 4.302717996357819\n",
            "Median of duration_minutes 3.0\n",
            "Standard Deviation of duration_minutes 4.292130204419532\n",
            "Maximum of duration_minutes 81.96666666666667\n",
            "Minimum of duration_minutes 0.0\n",
            "**************\n"
          ]
        }
      ]
    },
    {
      "cell_type": "code",
      "source": [
        "# Your Code here:"
      ],
      "metadata": {
        "colab": {
          "base_uri": "https://localhost:8080/",
          "height": 364
        },
        "id": "kcH_aPMX4tCj",
        "outputId": "1cf5e575-12c5-46a3-bb01-7feaaf6df802"
      },
      "execution_count": null,
      "outputs": [
        {
          "output_type": "execute_result",
          "data": {
            "text/plain": [
              "                age       default        balance       housing          loan  \\\n",
              "count  45211.000000  45211.000000   45211.000000  45211.000000  45211.000000   \n",
              "mean      40.936210      0.018027    1362.272058      0.555838      0.160226   \n",
              "std       10.618762      0.133049    3044.765829      0.496878      0.366820   \n",
              "min       18.000000      0.000000   -8019.000000      0.000000      0.000000   \n",
              "25%       33.000000      0.000000      72.000000      0.000000      0.000000   \n",
              "50%       39.000000      0.000000     448.000000      1.000000      0.000000   \n",
              "75%       48.000000      0.000000    1428.000000      1.000000      0.000000   \n",
              "max       95.000000      1.000000  102127.000000      1.000000      1.000000   \n",
              "\n",
              "                day      duration      campaign         pdays      previous  \\\n",
              "count  45211.000000  45211.000000  45211.000000  45211.000000  45211.000000   \n",
              "mean      15.806419    258.163080      2.763841     40.197828      0.580323   \n",
              "std        8.322476    257.527812      3.098021    100.128746      2.303441   \n",
              "min        1.000000      0.000000      1.000000     -1.000000      0.000000   \n",
              "25%        8.000000    103.000000      1.000000     -1.000000      0.000000   \n",
              "50%       16.000000    180.000000      2.000000     -1.000000      0.000000   \n",
              "75%       21.000000    319.000000      3.000000     -1.000000      0.000000   \n",
              "max       31.000000   4918.000000     63.000000    871.000000    275.000000   \n",
              "\n",
              "                  y  duration_minutes  \n",
              "count  45211.000000      45211.000000  \n",
              "mean       0.116985          4.302718  \n",
              "std        0.321406          4.292130  \n",
              "min        0.000000          0.000000  \n",
              "25%        0.000000          1.716667  \n",
              "50%        0.000000          3.000000  \n",
              "75%        0.000000          5.316667  \n",
              "max        1.000000         81.966667  "
            ],
            "text/html": [
              "\n",
              "  <div id=\"df-a8c801f3-32fd-4e45-ad26-1ff84809d5f2\">\n",
              "    <div class=\"colab-df-container\">\n",
              "      <div>\n",
              "<style scoped>\n",
              "    .dataframe tbody tr th:only-of-type {\n",
              "        vertical-align: middle;\n",
              "    }\n",
              "\n",
              "    .dataframe tbody tr th {\n",
              "        vertical-align: top;\n",
              "    }\n",
              "\n",
              "    .dataframe thead th {\n",
              "        text-align: right;\n",
              "    }\n",
              "</style>\n",
              "<table border=\"1\" class=\"dataframe\">\n",
              "  <thead>\n",
              "    <tr style=\"text-align: right;\">\n",
              "      <th></th>\n",
              "      <th>age</th>\n",
              "      <th>default</th>\n",
              "      <th>balance</th>\n",
              "      <th>housing</th>\n",
              "      <th>loan</th>\n",
              "      <th>day</th>\n",
              "      <th>duration</th>\n",
              "      <th>campaign</th>\n",
              "      <th>pdays</th>\n",
              "      <th>previous</th>\n",
              "      <th>y</th>\n",
              "      <th>duration_minutes</th>\n",
              "    </tr>\n",
              "  </thead>\n",
              "  <tbody>\n",
              "    <tr>\n",
              "      <th>count</th>\n",
              "      <td>45211.000000</td>\n",
              "      <td>45211.000000</td>\n",
              "      <td>45211.000000</td>\n",
              "      <td>45211.000000</td>\n",
              "      <td>45211.000000</td>\n",
              "      <td>45211.000000</td>\n",
              "      <td>45211.000000</td>\n",
              "      <td>45211.000000</td>\n",
              "      <td>45211.000000</td>\n",
              "      <td>45211.000000</td>\n",
              "      <td>45211.000000</td>\n",
              "      <td>45211.000000</td>\n",
              "    </tr>\n",
              "    <tr>\n",
              "      <th>mean</th>\n",
              "      <td>40.936210</td>\n",
              "      <td>0.018027</td>\n",
              "      <td>1362.272058</td>\n",
              "      <td>0.555838</td>\n",
              "      <td>0.160226</td>\n",
              "      <td>15.806419</td>\n",
              "      <td>258.163080</td>\n",
              "      <td>2.763841</td>\n",
              "      <td>40.197828</td>\n",
              "      <td>0.580323</td>\n",
              "      <td>0.116985</td>\n",
              "      <td>4.302718</td>\n",
              "    </tr>\n",
              "    <tr>\n",
              "      <th>std</th>\n",
              "      <td>10.618762</td>\n",
              "      <td>0.133049</td>\n",
              "      <td>3044.765829</td>\n",
              "      <td>0.496878</td>\n",
              "      <td>0.366820</td>\n",
              "      <td>8.322476</td>\n",
              "      <td>257.527812</td>\n",
              "      <td>3.098021</td>\n",
              "      <td>100.128746</td>\n",
              "      <td>2.303441</td>\n",
              "      <td>0.321406</td>\n",
              "      <td>4.292130</td>\n",
              "    </tr>\n",
              "    <tr>\n",
              "      <th>min</th>\n",
              "      <td>18.000000</td>\n",
              "      <td>0.000000</td>\n",
              "      <td>-8019.000000</td>\n",
              "      <td>0.000000</td>\n",
              "      <td>0.000000</td>\n",
              "      <td>1.000000</td>\n",
              "      <td>0.000000</td>\n",
              "      <td>1.000000</td>\n",
              "      <td>-1.000000</td>\n",
              "      <td>0.000000</td>\n",
              "      <td>0.000000</td>\n",
              "      <td>0.000000</td>\n",
              "    </tr>\n",
              "    <tr>\n",
              "      <th>25%</th>\n",
              "      <td>33.000000</td>\n",
              "      <td>0.000000</td>\n",
              "      <td>72.000000</td>\n",
              "      <td>0.000000</td>\n",
              "      <td>0.000000</td>\n",
              "      <td>8.000000</td>\n",
              "      <td>103.000000</td>\n",
              "      <td>1.000000</td>\n",
              "      <td>-1.000000</td>\n",
              "      <td>0.000000</td>\n",
              "      <td>0.000000</td>\n",
              "      <td>1.716667</td>\n",
              "    </tr>\n",
              "    <tr>\n",
              "      <th>50%</th>\n",
              "      <td>39.000000</td>\n",
              "      <td>0.000000</td>\n",
              "      <td>448.000000</td>\n",
              "      <td>1.000000</td>\n",
              "      <td>0.000000</td>\n",
              "      <td>16.000000</td>\n",
              "      <td>180.000000</td>\n",
              "      <td>2.000000</td>\n",
              "      <td>-1.000000</td>\n",
              "      <td>0.000000</td>\n",
              "      <td>0.000000</td>\n",
              "      <td>3.000000</td>\n",
              "    </tr>\n",
              "    <tr>\n",
              "      <th>75%</th>\n",
              "      <td>48.000000</td>\n",
              "      <td>0.000000</td>\n",
              "      <td>1428.000000</td>\n",
              "      <td>1.000000</td>\n",
              "      <td>0.000000</td>\n",
              "      <td>21.000000</td>\n",
              "      <td>319.000000</td>\n",
              "      <td>3.000000</td>\n",
              "      <td>-1.000000</td>\n",
              "      <td>0.000000</td>\n",
              "      <td>0.000000</td>\n",
              "      <td>5.316667</td>\n",
              "    </tr>\n",
              "    <tr>\n",
              "      <th>max</th>\n",
              "      <td>95.000000</td>\n",
              "      <td>1.000000</td>\n",
              "      <td>102127.000000</td>\n",
              "      <td>1.000000</td>\n",
              "      <td>1.000000</td>\n",
              "      <td>31.000000</td>\n",
              "      <td>4918.000000</td>\n",
              "      <td>63.000000</td>\n",
              "      <td>871.000000</td>\n",
              "      <td>275.000000</td>\n",
              "      <td>1.000000</td>\n",
              "      <td>81.966667</td>\n",
              "    </tr>\n",
              "  </tbody>\n",
              "</table>\n",
              "</div>\n",
              "      <button class=\"colab-df-convert\" onclick=\"convertToInteractive('df-a8c801f3-32fd-4e45-ad26-1ff84809d5f2')\"\n",
              "              title=\"Convert this dataframe to an interactive table.\"\n",
              "              style=\"display:none;\">\n",
              "        \n",
              "  <svg xmlns=\"http://www.w3.org/2000/svg\" height=\"24px\"viewBox=\"0 0 24 24\"\n",
              "       width=\"24px\">\n",
              "    <path d=\"M0 0h24v24H0V0z\" fill=\"none\"/>\n",
              "    <path d=\"M18.56 5.44l.94 2.06.94-2.06 2.06-.94-2.06-.94-.94-2.06-.94 2.06-2.06.94zm-11 1L8.5 8.5l.94-2.06 2.06-.94-2.06-.94L8.5 2.5l-.94 2.06-2.06.94zm10 10l.94 2.06.94-2.06 2.06-.94-2.06-.94-.94-2.06-.94 2.06-2.06.94z\"/><path d=\"M17.41 7.96l-1.37-1.37c-.4-.4-.92-.59-1.43-.59-.52 0-1.04.2-1.43.59L10.3 9.45l-7.72 7.72c-.78.78-.78 2.05 0 2.83L4 21.41c.39.39.9.59 1.41.59.51 0 1.02-.2 1.41-.59l7.78-7.78 2.81-2.81c.8-.78.8-2.07 0-2.86zM5.41 20L4 18.59l7.72-7.72 1.47 1.35L5.41 20z\"/>\n",
              "  </svg>\n",
              "      </button>\n",
              "      \n",
              "  <style>\n",
              "    .colab-df-container {\n",
              "      display:flex;\n",
              "      flex-wrap:wrap;\n",
              "      gap: 12px;\n",
              "    }\n",
              "\n",
              "    .colab-df-convert {\n",
              "      background-color: #E8F0FE;\n",
              "      border: none;\n",
              "      border-radius: 50%;\n",
              "      cursor: pointer;\n",
              "      display: none;\n",
              "      fill: #1967D2;\n",
              "      height: 32px;\n",
              "      padding: 0 0 0 0;\n",
              "      width: 32px;\n",
              "    }\n",
              "\n",
              "    .colab-df-convert:hover {\n",
              "      background-color: #E2EBFA;\n",
              "      box-shadow: 0px 1px 2px rgba(60, 64, 67, 0.3), 0px 1px 3px 1px rgba(60, 64, 67, 0.15);\n",
              "      fill: #174EA6;\n",
              "    }\n",
              "\n",
              "    [theme=dark] .colab-df-convert {\n",
              "      background-color: #3B4455;\n",
              "      fill: #D2E3FC;\n",
              "    }\n",
              "\n",
              "    [theme=dark] .colab-df-convert:hover {\n",
              "      background-color: #434B5C;\n",
              "      box-shadow: 0px 1px 3px 1px rgba(0, 0, 0, 0.15);\n",
              "      filter: drop-shadow(0px 1px 2px rgba(0, 0, 0, 0.3));\n",
              "      fill: #FFFFFF;\n",
              "    }\n",
              "  </style>\n",
              "\n",
              "      <script>\n",
              "        const buttonEl =\n",
              "          document.querySelector('#df-a8c801f3-32fd-4e45-ad26-1ff84809d5f2 button.colab-df-convert');\n",
              "        buttonEl.style.display =\n",
              "          google.colab.kernel.accessAllowed ? 'block' : 'none';\n",
              "\n",
              "        async function convertToInteractive(key) {\n",
              "          const element = document.querySelector('#df-a8c801f3-32fd-4e45-ad26-1ff84809d5f2');\n",
              "          const dataTable =\n",
              "            await google.colab.kernel.invokeFunction('convertToInteractive',\n",
              "                                                     [key], {});\n",
              "          if (!dataTable) return;\n",
              "\n",
              "          const docLinkHtml = 'Like what you see? Visit the ' +\n",
              "            '<a target=\"_blank\" href=https://colab.research.google.com/notebooks/data_table.ipynb>data table notebook</a>'\n",
              "            + ' to learn more about interactive tables.';\n",
              "          element.innerHTML = '';\n",
              "          dataTable['output_type'] = 'display_data';\n",
              "          await google.colab.output.renderOutput(dataTable, element);\n",
              "          const docLink = document.createElement('div');\n",
              "          docLink.innerHTML = docLinkHtml;\n",
              "          element.appendChild(docLink);\n",
              "        }\n",
              "      </script>\n",
              "    </div>\n",
              "  </div>\n",
              "  "
            ]
          },
          "metadata": {},
          "execution_count": 9
        }
      ]
    },
    {
      "cell_type": "markdown",
      "source": [
        "# Section -3:  Basic Data Visualization:\n",
        "___\n",
        "Tasks:\n",
        "\n",
        "1. Plot histograms of age, balance\n",
        "2. plot in bar showing number of subscriptions according to level of education [Subscriptions--Loan approved or not]\n",
        "3. plot in bar showing number of subscriptions according to job  "
      ],
      "metadata": {
        "id": "HdL2MIn941qe"
      }
    },
    {
      "cell_type": "code",
      "source": [
        "# Your Code Here"
      ],
      "metadata": {
        "colab": {
          "base_uri": "https://localhost:8080/"
        },
        "id": "r1lElpW64v23",
        "outputId": "ee5772ec-daba-45be-8d89-d3e4e7ae2edf"
      },
      "execution_count": null,
      "outputs": [
        {
          "output_type": "execute_result",
          "data": {
            "text/plain": [
              "<matplotlib.axes._subplots.AxesSubplot at 0x7f5b7d930c40>"
            ]
          },
          "metadata": {},
          "execution_count": 10
        },
        {
          "output_type": "display_data",
          "data": {
            "text/plain": [
              "<Figure size 432x288 with 1 Axes>"
            ],
            "image/png": "[encoded data removed]"
          },
          "metadata": {
            "needs_background": "light"
          }
        }
      ]
    },
    {
      "cell_type": "code",
      "source": [
        "# plot in bar showing number of subscriptions according to level of education\n",
        "import matplotlib.pyplot as plt\n",
        "# your code here:\n"
      ],
      "metadata": {
        "colab": {
          "base_uri": "https://localhost:8080/"
        },
        "id": "zdvUvpoY5BPL",
        "outputId": "2d36399d-941c-424f-ba12-42712796eb96"
      },
      "execution_count": null,
      "outputs": [
        {
          "output_type": "execute_result",
          "data": {
            "text/plain": [
              "Text(0, 0.5, 'Frequency of subscribers')"
            ]
          },
          "metadata": {},
          "execution_count": 11
        },
        {
          "output_type": "display_data",
          "data": {
            "text/plain": [
              "<Figure size 432x288 with 1 Axes>"
            ],
            "image/png": "[encoded data removed]"
          },
          "metadata": {
            "needs_background": "light"
          }
        }
      ]
    },
    {
      "cell_type": "markdown",
      "source": [
        "Tasks:\n",
        "\n",
        "1. Check number of acceptance and rejection in target variable y and plot in pie chart\n",
        "2. Check Total number of clients who subscribed according to the marital status\n",
        "3. Check Total number of clients on the basis of education\n",
        "4. Check the general level of education of people based on the provided data set\n",
        "5. Calculate the ratio who said yes according to their education \n",
        "\n"
      ],
      "metadata": {
        "id": "skE26uZP5RmM"
      }
    },
    {
      "cell_type": "code",
      "source": [
        "# your Code here:"
      ],
      "metadata": {
        "colab": {
          "base_uri": "https://localhost:8080/"
        },
        "id": "w_uEE3A55Gst",
        "outputId": "c54440c0-edcc-4f92-cd5f-9b44c754074a"
      },
      "execution_count": null,
      "outputs": [
        {
          "output_type": "execute_result",
          "data": {
            "text/plain": [
              "0    39922\n",
              "1     5289\n",
              "Name: y, dtype: int64"
            ]
          },
          "metadata": {},
          "execution_count": 12
        }
      ]
    },
    {
      "cell_type": "code",
      "source": [],
      "metadata": {
        "colab": {
          "base_uri": "https://localhost:8080/"
        },
        "id": "WRr6hjVU5Wo9",
        "outputId": "8407fd07-7945-40f2-baee-0281b5618a39"
      },
      "execution_count": null,
      "outputs": [
        {
          "output_type": "execute_result",
          "data": {
            "text/plain": [
              "<matplotlib.axes._subplots.AxesSubplot at 0x7f5b7d763400>"
            ]
          },
          "metadata": {},
          "execution_count": 13
        },
        {
          "output_type": "display_data",
          "data": {
            "text/plain": [
              "<Figure size 432x288 with 1 Axes>"
            ],
            "image/png": "[encoded data removed]"
          },
          "metadata": {}
        }
      ]
    },
    {
      "cell_type": "code",
      "source": [
        "#Total number of clients who subscribed according to the marital status\n"
      ],
      "metadata": {
        "colab": {
          "base_uri": "https://localhost:8080/"
        },
        "id": "nwpmME895X-N",
        "outputId": "8cf5f977-5e78-4827-d040-2ff6b245a6e5"
      },
      "execution_count": null,
      "outputs": [
        {
          "output_type": "execute_result",
          "data": {
            "text/plain": [
              "Text(0, 0.5, 'Frequency of subscribers')"
            ]
          },
          "metadata": {},
          "execution_count": 14
        },
        {
          "output_type": "display_data",
          "data": {
            "text/plain": [
              "<Figure size 432x288 with 1 Axes>"
            ],
            "image/png": "[encoded data removed]"
          },
          "metadata": {
            "needs_background": "light"
          }
        }
      ]
    },
    {
      "cell_type": "code",
      "source": [
        "#Total number of clients on the basis of education\n"
      ],
      "metadata": {
        "colab": {
          "base_uri": "https://localhost:8080/"
        },
        "id": "apvlebi05Zpc",
        "outputId": "b34b32f5-b8ae-431f-8248-3445480bd46e"
      },
      "execution_count": null,
      "outputs": [
        {
          "output_type": "execute_result",
          "data": {
            "text/plain": [
              "             age    job  marital  default  balance  housing   loan  contact  \\\n",
              "education                                                                     \n",
              "primary     6851   6851     6851     6851     6851     6851   6851     6851   \n",
              "secondary  23202  23202    23202    23202    23202    23202  23202    23202   \n",
              "tertiary   13301  13301    13301    13301    13301    13301  13301    13301   \n",
              "unknown     1857   1857     1857     1857     1857     1857   1857     1857   \n",
              "\n",
              "             day  month  duration  campaign  pdays  previous  poutcome      y  \\\n",
              "education                                                                       \n",
              "primary     6851   6851      6851      6851   6851      6851      6851   6851   \n",
              "secondary  23202  23202     23202     23202  23202     23202     23202  23202   \n",
              "tertiary   13301  13301     13301     13301  13301     13301     13301  13301   \n",
              "unknown     1857   1857      1857      1857   1857      1857      1857   1857   \n",
              "\n",
              "           duration_minutes  \n",
              "education                    \n",
              "primary                6851  \n",
              "secondary             23202  \n",
              "tertiary              13301  \n",
              "unknown                1857  "
            ],
            "text/html": [
              "\n",
              "  <div id=\"df-9ab771f0-400c-4989-a67b-4d81839a71d0\">\n",
              "    <div class=\"colab-df-container\">\n",
              "      <div>\n",
              "<style scoped>\n",
              "    .dataframe tbody tr th:only-of-type {\n",
              "        vertical-align: middle;\n",
              "    }\n",
              "\n",
              "    .dataframe tbody tr th {\n",
              "        vertical-align: top;\n",
              "    }\n",
              "\n",
              "    .dataframe thead th {\n",
              "        text-align: right;\n",
              "    }\n",
              "</style>\n",
              "<table border=\"1\" class=\"dataframe\">\n",
              "  <thead>\n",
              "    <tr style=\"text-align: right;\">\n",
              "      <th></th>\n",
              "      <th>age</th>\n",
              "      <th>job</th>\n",
              "      <th>marital</th>\n",
              "      <th>default</th>\n",
              "      <th>balance</th>\n",
              "      <th>housing</th>\n",
              "      <th>loan</th>\n",
              "      <th>contact</th>\n",
              "      <th>day</th>\n",
              "      <th>month</th>\n",
              "      <th>duration</th>\n",
              "      <th>campaign</th>\n",
              "      <th>pdays</th>\n",
              "      <th>previous</th>\n",
              "      <th>poutcome</th>\n",
              "      <th>y</th>\n",
              "      <th>duration_minutes</th>\n",
              "    </tr>\n",
              "    <tr>\n",
              "      <th>education</th>\n",
              "      <th></th>\n",
              "      <th></th>\n",
              "      <th></th>\n",
              "      <th></th>\n",
              "      <th></th>\n",
              "      <th></th>\n",
              "      <th></th>\n",
              "      <th></th>\n",
              "      <th></th>\n",
              "      <th></th>\n",
              "      <th></th>\n",
              "      <th></th>\n",
              "      <th></th>\n",
              "      <th></th>\n",
              "      <th></th>\n",
              "      <th></th>\n",
              "      <th></th>\n",
              "    </tr>\n",
              "  </thead>\n",
              "  <tbody>\n",
              "    <tr>\n",
              "      <th>primary</th>\n",
              "      <td>6851</td>\n",
              "      <td>6851</td>\n",
              "      <td>6851</td>\n",
              "      <td>6851</td>\n",
              "      <td>6851</td>\n",
              "      <td>6851</td>\n",
              "      <td>6851</td>\n",
              "      <td>6851</td>\n",
              "      <td>6851</td>\n",
              "      <td>6851</td>\n",
              "      <td>6851</td>\n",
              "      <td>6851</td>\n",
              "      <td>6851</td>\n",
              "      <td>6851</td>\n",
              "      <td>6851</td>\n",
              "      <td>6851</td>\n",
              "      <td>6851</td>\n",
              "    </tr>\n",
              "    <tr>\n",
              "      <th>secondary</th>\n",
              "      <td>23202</td>\n",
              "      <td>23202</td>\n",
              "      <td>23202</td>\n",
              "      <td>23202</td>\n",
              "      <td>23202</td>\n",
              "      <td>23202</td>\n",
              "      <td>23202</td>\n",
              "      <td>23202</td>\n",
              "      <td>23202</td>\n",
              "      <td>23202</td>\n",
              "      <td>23202</td>\n",
              "      <td>23202</td>\n",
              "      <td>23202</td>\n",
              "      <td>23202</td>\n",
              "      <td>23202</td>\n",
              "      <td>23202</td>\n",
              "      <td>23202</td>\n",
              "    </tr>\n",
              "    <tr>\n",
              "      <th>tertiary</th>\n",
              "      <td>13301</td>\n",
              "      <td>13301</td>\n",
              "      <td>13301</td>\n",
              "      <td>13301</td>\n",
              "      <td>13301</td>\n",
              "      <td>13301</td>\n",
              "      <td>13301</td>\n",
              "      <td>13301</td>\n",
              "      <td>13301</td>\n",
              "      <td>13301</td>\n",
              "      <td>13301</td>\n",
              "      <td>13301</td>\n",
              "      <td>13301</td>\n",
              "      <td>13301</td>\n",
              "      <td>13301</td>\n",
              "      <td>13301</td>\n",
              "      <td>13301</td>\n",
              "    </tr>\n",
              "    <tr>\n",
              "      <th>unknown</th>\n",
              "      <td>1857</td>\n",
              "      <td>1857</td>\n",
              "      <td>1857</td>\n",
              "      <td>1857</td>\n",
              "      <td>1857</td>\n",
              "      <td>1857</td>\n",
              "      <td>1857</td>\n",
              "      <td>1857</td>\n",
              "      <td>1857</td>\n",
              "      <td>1857</td>\n",
              "      <td>1857</td>\n",
              "      <td>1857</td>\n",
              "      <td>1857</td>\n",
              "      <td>1857</td>\n",
              "      <td>1857</td>\n",
              "      <td>1857</td>\n",
              "      <td>1857</td>\n",
              "    </tr>\n",
              "  </tbody>\n",
              "</table>\n",
              "</div>\n",
              "      <button class=\"colab-df-convert\" onclick=\"convertToInteractive('df-9ab771f0-400c-4989-a67b-4d81839a71d0')\"\n",
              "              title=\"Convert this dataframe to an interactive table.\"\n",
              "              style=\"display:none;\">\n",
              "        \n",
              "  <svg xmlns=\"http://www.w3.org/2000/svg\" height=\"24px\"viewBox=\"0 0 24 24\"\n",
              "       width=\"24px\">\n",
              "    <path d=\"M0 0h24v24H0V0z\" fill=\"none\"/>\n",
              "    <path d=\"M18.56 5.44l.94 2.06.94-2.06 2.06-.94-2.06-.94-.94-2.06-.94 2.06-2.06.94zm-11 1L8.5 8.5l.94-2.06 2.06-.94-2.06-.94L8.5 2.5l-.94 2.06-2.06.94zm10 10l.94 2.06.94-2.06 2.06-.94-2.06-.94-.94-2.06-.94 2.06-2.06.94z\"/><path d=\"M17.41 7.96l-1.37-1.37c-.4-.4-.92-.59-1.43-.59-.52 0-1.04.2-1.43.59L10.3 9.45l-7.72 7.72c-.78.78-.78 2.05 0 2.83L4 21.41c.39.39.9.59 1.41.59.51 0 1.02-.2 1.41-.59l7.78-7.78 2.81-2.81c.8-.78.8-2.07 0-2.86zM5.41 20L4 18.59l7.72-7.72 1.47 1.35L5.41 20z\"/>\n",
              "  </svg>\n",
              "      </button>\n",
              "      \n",
              "  <style>\n",
              "    .colab-df-container {\n",
              "      display:flex;\n",
              "      flex-wrap:wrap;\n",
              "      gap: 12px;\n",
              "    }\n",
              "\n",
              "    .colab-df-convert {\n",
              "      background-color: #E8F0FE;\n",
              "      border: none;\n",
              "      border-radius: 50%;\n",
              "      cursor: pointer;\n",
              "      display: none;\n",
              "      fill: #1967D2;\n",
              "      height: 32px;\n",
              "      padding: 0 0 0 0;\n",
              "      width: 32px;\n",
              "    }\n",
              "\n",
              "    .colab-df-convert:hover {\n",
              "      background-color: #E2EBFA;\n",
              "      box-shadow: 0px 1px 2px rgba(60, 64, 67, 0.3), 0px 1px 3px 1px rgba(60, 64, 67, 0.15);\n",
              "      fill: #174EA6;\n",
              "    }\n",
              "\n",
              "    [theme=dark] .colab-df-convert {\n",
              "      background-color: #3B4455;\n",
              "      fill: #D2E3FC;\n",
              "    }\n",
              "\n",
              "    [theme=dark] .colab-df-convert:hover {\n",
              "      background-color: #434B5C;\n",
              "      box-shadow: 0px 1px 3px 1px rgba(0, 0, 0, 0.15);\n",
              "      filter: drop-shadow(0px 1px 2px rgba(0, 0, 0, 0.3));\n",
              "      fill: #FFFFFF;\n",
              "    }\n",
              "  </style>\n",
              "\n",
              "      <script>\n",
              "        const buttonEl =\n",
              "          document.querySelector('#df-9ab771f0-400c-4989-a67b-4d81839a71d0 button.colab-df-convert');\n",
              "        buttonEl.style.display =\n",
              "          google.colab.kernel.accessAllowed ? 'block' : 'none';\n",
              "\n",
              "        async function convertToInteractive(key) {\n",
              "          const element = document.querySelector('#df-9ab771f0-400c-4989-a67b-4d81839a71d0');\n",
              "          const dataTable =\n",
              "            await google.colab.kernel.invokeFunction('convertToInteractive',\n",
              "                                                     [key], {});\n",
              "          if (!dataTable) return;\n",
              "\n",
              "          const docLinkHtml = 'Like what you see? Visit the ' +\n",
              "            '<a target=\"_blank\" href=https://colab.research.google.com/notebooks/data_table.ipynb>data table notebook</a>'\n",
              "            + ' to learn more about interactive tables.';\n",
              "          element.innerHTML = '';\n",
              "          dataTable['output_type'] = 'display_data';\n",
              "          await google.colab.output.renderOutput(dataTable, element);\n",
              "          const docLink = document.createElement('div');\n",
              "          docLink.innerHTML = docLinkHtml;\n",
              "          element.appendChild(docLink);\n",
              "        }\n",
              "      </script>\n",
              "    </div>\n",
              "  </div>\n",
              "  "
            ]
          },
          "metadata": {},
          "execution_count": 15
        }
      ]
    },
    {
      "cell_type": "code",
      "source": [],
      "metadata": {
        "colab": {
          "base_uri": "https://localhost:8080/"
        },
        "id": "geye3JTl5b4S",
        "outputId": "4704f120-ba05-4035-b017-c258134ffbc6"
      },
      "execution_count": null,
      "outputs": [
        {
          "output_type": "execute_result",
          "data": {
            "text/plain": [
              "secondary    23202\n",
              "tertiary     13301\n",
              "primary       6851\n",
              "unknown       1857\n",
              "Name: education, dtype: int64"
            ]
          },
          "metadata": {},
          "execution_count": 16
        }
      ]
    },
    {
      "cell_type": "code",
      "source": [],
      "metadata": {
        "colab": {
          "base_uri": "https://localhost:8080/"
        },
        "id": "9ww1ezDH5dJ3",
        "outputId": "32590bb1-0ae2-4b64-fe0d-998fe3fd75cd"
      },
      "execution_count": null,
      "outputs": [
        {
          "output_type": "execute_result",
          "data": {
            "text/plain": [
              "secondary    2320200.0\n",
              "tertiary     1330100.0\n",
              "primary       685100.0\n",
              "unknown       185700.0\n",
              "Name: education, dtype: float64"
            ]
          },
          "metadata": {},
          "execution_count": 17
        }
      ]
    },
    {
      "cell_type": "code",
      "source": [],
      "metadata": {
        "colab": {
          "base_uri": "https://localhost:8080/"
        },
        "id": "bz-Yb6HY5ers",
        "outputId": "0b5232a7-c15b-4546-cde3-8d4cc7dd5dec"
      },
      "execution_count": null,
      "outputs": [
        {
          "output_type": "execute_result",
          "data": {
            "text/plain": [
              "secondary    51.319369\n",
              "tertiary     29.419831\n",
              "primary      15.153392\n",
              "unknown       4.107407\n",
              "Name: education, dtype: float64"
            ]
          },
          "metadata": {},
          "execution_count": 18
        }
      ]
    },
    {
      "cell_type": "code",
      "source": [
        "#calculating the ratio who said yes according to their education \n",
        "\n"
      ],
      "metadata": {
        "colab": {
          "base_uri": "https://localhost:8080/"
        },
        "id": "u_s_fFkP5gaw",
        "outputId": "f4f3894b-75b0-4145-edf7-3977792ed759"
      },
      "execution_count": null,
      "outputs": [
        {
          "output_type": "execute_result",
          "data": {
            "text/plain": [
              "education\n",
              "primary       6851\n",
              "secondary    23202\n",
              "tertiary     13301\n",
              "unknown       1857\n",
              "Name: y, dtype: int64"
            ]
          },
          "metadata": {},
          "execution_count": 19
        }
      ]
    },
    {
      "cell_type": "code",
      "source": [
        "\n"
      ],
      "metadata": {
        "colab": {
          "base_uri": "https://localhost:8080/"
        },
        "id": "UpvuAxxp5h-7",
        "outputId": "6d95e372-eff7-41f9-fff1-ab2feecd9243"
      },
      "execution_count": null,
      "outputs": [
        {
          "output_type": "execute_result",
          "data": {
            "text/plain": [
              "Series([], Name: y, dtype: int64)"
            ]
          },
          "metadata": {},
          "execution_count": 20
        }
      ]
    },
    {
      "cell_type": "code",
      "source": [
        "# Ratio:\n"
      ],
      "metadata": {
        "colab": {
          "base_uri": "https://localhost:8080/"
        },
        "id": "phjZjSKp5jia",
        "outputId": "5ee76a4a-0592-42f9-a801-7a61df708914"
      },
      "execution_count": null,
      "outputs": [
        {
          "output_type": "execute_result",
          "data": {
            "text/plain": [
              "education\n",
              "primary     NaN\n",
              "secondary   NaN\n",
              "tertiary    NaN\n",
              "unknown     NaN\n",
              "Name: y, dtype: float64"
            ]
          },
          "metadata": {},
          "execution_count": 21
        }
      ]
    },
    {
      "cell_type": "code",
      "source": [],
      "metadata": {
        "id": "c9qOGFc35lNt"
      },
      "execution_count": null,
      "outputs": []
    }
  ]
}